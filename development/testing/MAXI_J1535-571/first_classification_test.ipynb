{
 "cells": [
  {
   "cell_type": "markdown",
   "metadata": {},
   "source": [
    "# qpoml first effort "
   ]
  },
  {
   "cell_type": "code",
   "execution_count": null,
   "metadata": {},
   "outputs": [],
   "source": [
    "from qpoml import collection \n",
    "from sklearn.ensemble import RandomForestClassifier\n",
    "from sklearn.neighbors import KNeighborsClassifier\n",
    "import numpy as np\n",
    "import pandas as pd \n",
    "import matplotlib.pyplot as plt \n",
    "\n",
    "scalar_context_path = '/mnt/c/Users/Research/Documents/GitHub/MAXI-J1535/final-push/data/pipeline/classification/input.csv'\n",
    "qpo_path = '/mnt/c/Users/Research/Documents/GitHub/MAXI-J1535/final-push/data/pipeline/classification/output.csv'\n",
    "\n",
    "context_preprocess_dict = {'A':'normalize', 'B':'normalize', 'C':'normalize', 'D':'normalize', 'E':'normalize', 'F':'normalize', 'G':'normalize'}\n",
    "units = {'frequency':'Hz'}"
   ]
  },
  {
   "cell_type": "code",
   "execution_count": null,
   "metadata": {},
   "outputs": [],
   "source": [
    "collec = collection()\n",
    "collec.load(qpo_csv=qpo_path, context_csv=scalar_context_path, qpo_preprocess=None, context_preprocess=context_preprocess_dict, approach='classification', units=units)\n",
    "collec.evaluate(model=KNeighborsClassifier(), evaluation_approach='k-fold', folds=5)"
   ]
  },
  {
   "cell_type": "code",
   "execution_count": null,
   "metadata": {},
   "outputs": [],
   "source": [
    "print(collec.predictions[0])\n",
    "print(collec.y_test[0])"
   ]
  },
  {
   "cell_type": "code",
   "execution_count": null,
   "metadata": {},
   "outputs": [],
   "source": [
    "fig, ax = plt.subplots(figsize=(4,4))\n",
    "\n",
    "from qpoml.plotting import plot_roc   \n",
    "fpr, tpr, std_tpr, auc, std_auc = collec.roc_and_auc()\n",
    "\n",
    "plot_roc(fpr, tpr, auc, std_auc, std_tpr, ax = ax)\n",
    "\n",
    "plt.show()"
   ]
  },
  {
   "cell_type": "markdown",
   "metadata": {},
   "source": [
    "# non qpoml first effort "
   ]
  },
  {
   "cell_type": "code",
   "execution_count": null,
   "metadata": {},
   "outputs": [],
   "source": [
    "from sklearn.ensemble import RandomForestClassifier\n",
    "from sklearn.neighbors import KNeighborsClassifier\n",
    "from sklearn.linear_model import LogisticRegression as logistic\n",
    "from sklearn.svm import SVC\n",
    "from sklearn.model_selection import train_test_split\n",
    "import numpy as np\n",
    "import pandas as pd \n",
    "import matplotlib.pyplot as plt \n",
    "\n",
    "scalar_context_path = '/mnt/c/Users/Research/Documents/GitHub/MAXI-J1535/final-push/data/pipeline/classification/input.csv'\n",
    "qpo_path = '/mnt/c/Users/Research/Documents/GitHub/MAXI-J1535/final-push/data/pipeline/classification/output.csv'"
   ]
  },
  {
   "cell_type": "code",
   "execution_count": null,
   "metadata": {},
   "outputs": [],
   "source": [
    "input_df = pd.read_csv(scalar_context_path)\n",
    "qpo_df = pd.read_csv(qpo_path)\n",
    "\n",
    "merged_df = input_df.merge(qpo_df, on='observation_ID').sample(frac=1)\n",
    "\n",
    "qpo_states = np.array(merged_df['qpo_state'])\n",
    "\n",
    "X = merged_df.drop(columns=['observation_ID', 'qpo_state'])\n",
    "\n",
    "X_train, X_test, y_train, y_test = train_test_split(X, qpo_states, test_size=0.25, stratify=qpo_states)\n",
    "\n",
    "clf = SVC()\n",
    "clf.fit(X_train, y_train)\n",
    "clf.score(X_test, y_test)"
   ]
  },
  {
   "cell_type": "code",
   "execution_count": null,
   "metadata": {},
   "outputs": [],
   "source": [
    "len(qpo_states), len(np.where(qpo_states==1)[0])"
   ]
  },
  {
   "cell_type": "markdown",
   "metadata": {},
   "source": [
    "# second qpoml effort \n",
    "(after fix)"
   ]
  },
  {
   "cell_type": "code",
   "execution_count": null,
   "metadata": {},
   "outputs": [],
   "source": [
    "from qpoml import collection \n",
    "from sklearn.ensemble import RandomForestClassifier\n",
    "from sklearn.neighbors import KNeighborsClassifier\n",
    "import numpy as np\n",
    "import pandas as pd \n",
    "import matplotlib.pyplot as plt \n",
    "\n",
    "scalar_context_path = '/mnt/c/Users/Research/Documents/GitHub/MAXI-J1535/final-push/data/pipeline/classification/input.csv'\n",
    "qpo_path = '/mnt/c/Users/Research/Documents/GitHub/MAXI-J1535/final-push/data/pipeline/classification/output.csv'\n",
    "\n",
    "context_preprocess_dict = {'A':'normalize', 'B':'normalize', 'C':'normalize', 'D':'normalize', 'E':'normalize', 'F':'normalize', 'G':'normalize'}\n",
    "units = {'frequency':'Hz'}"
   ]
  },
  {
   "cell_type": "code",
   "execution_count": null,
   "metadata": {},
   "outputs": [],
   "source": [
    "collec = collection()\n",
    "collec.load(qpo_csv=qpo_path, context_csv=scalar_context_path, qpo_preprocess=None, context_preprocess=context_preprocess_dict, approach='classification', units=units)\n",
    "collec.evaluate(model=RandomForestClassifier(), evaluation_approach='k-fold', folds=5, stratify=True)\n",
    "\n",
    "print(collec.predictions[0])\n",
    "print(collec.y_test[0])\n",
    "\n",
    "fig, ax = plt.subplots(figsize=(4,4))\n",
    "\n",
    "from qpoml.plotting import plot_roc   \n",
    "fpr, tpr, std_tpr, auc, std_auc = collec.roc_and_auc()\n",
    "\n",
    "plot_roc(fpr, tpr, auc, std_auc, std_tpr, ax = ax)\n",
    "\n",
    "plt.show()"
   ]
  },
  {
   "cell_type": "code",
   "execution_count": null,
   "metadata": {},
   "outputs": [],
   "source": [
    "collec.plot_confusion_matrix()"
   ]
  }
 ],
 "metadata": {
  "kernelspec": {
   "display_name": "Python 3.7.11 ('base')",
   "language": "python",
   "name": "python3"
  },
  "language_info": {
   "codemirror_mode": {
    "name": "ipython",
    "version": 3
   },
   "file_extension": ".py",
   "mimetype": "text/x-python",
   "name": "python",
   "nbconvert_exporter": "python",
   "pygments_lexer": "ipython3",
   "version": "3.7.11"
  },
  "orig_nbformat": 4,
  "vscode": {
   "interpreter": {
    "hash": "61634f27096185db293e43d7ab06201f69d50b978aaac5c14f7a90e065000d31"
   }
  }
 },
 "nbformat": 4,
 "nbformat_minor": 2
}
